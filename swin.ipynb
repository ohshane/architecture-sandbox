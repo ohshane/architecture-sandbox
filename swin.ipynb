{
 "cells": [
  {
   "cell_type": "code",
   "execution_count": 373,
   "metadata": {},
   "outputs": [],
   "source": [
    "import torch\n",
    "import torch.nn as nn\n",
    "import torch.nn.functional as F\n",
    "from dimc import dimc, DimTrack\n",
    "\n",
    "dimtrack = DimTrack(2)\n",
    "x = torch.randn(1,3,224,224) # b c h w"
   ]
  },
  {
   "cell_type": "code",
   "execution_count": 374,
   "metadata": {},
   "outputs": [],
   "source": [
    "PATCH_SIZE = 4\n",
    "WINDOW_SIZE = 7\n",
    "\n",
    "@dimtrack\n",
    "def patch_embedding(x):\n",
    "    b, c, h, w = x.shape\n",
    "    assert h % PATCH_SIZE == 0\n",
    "    assert w % PATCH_SIZE == 0\n",
    "\n",
    "    n_h = h // PATCH_SIZE\n",
    "    n_w = w // PATCH_SIZE\n",
    "\n",
    "    embed_dim = 96 # 2*(c*PATCH_SIZE**2)\n",
    "\n",
    "    conv_proj = nn.Conv2d(\n",
    "        in_channels=c,\n",
    "        out_channels=embed_dim,\n",
    "        kernel_size=PATCH_SIZE,\n",
    "        stride=PATCH_SIZE,\n",
    "    )\n",
    "\n",
    "    norm = nn.LayerNorm(embed_dim)\n",
    "\n",
    "    x = conv_proj(x)       # b n_x n_h n_w\n",
    "    x = x.permute(0,2,3,1) # b n_h n_w n_x \n",
    "    x = norm(x)\n",
    "    return x"
   ]
  },
  {
   "cell_type": "code",
   "execution_count": 375,
   "metadata": {},
   "outputs": [],
   "source": [
    "@dimtrack\n",
    "def shifted_window_attention(x, shift_size=0):\n",
    "    b, n_h, n_w, n_x = x.shape\n",
    "\n",
    "    @dimtrack\n",
    "    def pad_patches(x):\n",
    "        b, n_h, n_w, n_x = x.shape\n",
    "        pad_r = (WINDOW_SIZE - n_w % WINDOW_SIZE) % WINDOW_SIZE # 0 <= pad < WINDOW_SIZE\n",
    "        pad_b = (WINDOW_SIZE - n_h % WINDOW_SIZE) % WINDOW_SIZE # 0 <= pad < WINDOW_SIZE\n",
    "        x = F.pad(x, (\n",
    "            0,     0, # x_start, x_end\n",
    "            0, pad_r, # w_start, w_end\n",
    "            0, pad_b, # h_start, h_end\n",
    "        ))\n",
    "        return x\n",
    "    \n",
    "    @dimtrack\n",
    "    def cyclic_shift(x):\n",
    "        b, n_h, n_w, n_x = x.shape\n",
    "        x = torch.roll(x, shifts=(-shift_size, -shift_size), dims=(1,2)) # upper left becomes lower right\n",
    "        return x\n",
    "    \n",
    "    @dimtrack\n",
    "    def reshape_by_windowsize(x):\n",
    "        b, n_h, n_w, n_x = x.shape\n",
    "        x = x.view(\n",
    "            b,\n",
    "            n_h//WINDOW_SIZE, WINDOW_SIZE, # n-times, self-attention\n",
    "            n_w//WINDOW_SIZE, WINDOW_SIZE, # n-times, self-attention\n",
    "            n_x\n",
    "        )\n",
    "        return x\n",
    "    \n",
    "    @dimtrack\n",
    "    def batchify_windows(x):\n",
    "        x = x.permute(0,1,3, 2,4, 5)\n",
    "        x = x.reshape(\n",
    "            b*(n_h//WINDOW_SIZE)*(n_w//WINDOW_SIZE),\n",
    "            WINDOW_SIZE*WINDOW_SIZE,\n",
    "            n_x\n",
    "        )\n",
    "        return x\n",
    "    \n",
    "    @dimtrack\n",
    "    def mha(x, num_heads=8, cosine_attn=True):\n",
    "\n",
    "        @dimtrack\n",
    "        def attention_value(x):\n",
    "            b, n_t, n_x = x.shape\n",
    "\n",
    "            qkv_proj = nn.Linear(n_x, 3*n_x, bias=True)\n",
    "            qkv = qkv_proj(x)\n",
    "            qkv = qkv.reshape(b, n_t, 3, num_heads, n_x//num_heads)\n",
    "            qkv = qkv.permute(2,0,3,1,4) # 3 b h n_t n_x' # always put ~ n_t n_x' at the end.\n",
    "            q, k, v = qkv\n",
    "\n",
    "            if cosine_attn:\n",
    "                attn = F.normalize(q, dim=-1) @ F.normalize(k, dim=-1).transpose(-2,-1)\n",
    "            else:\n",
    "                q = q * (n_x//num_heads) ** -0.5\n",
    "                attn = q @ k.transpose(-2,-1)\n",
    "            return attn\n",
    "\n",
    "        @dimtrack\n",
    "        def attn_add_relative_position_bias(attn):\n",
    "            return attn\n",
    "        \n",
    "        x = attention_value(x)\n",
    "        x = attn_add_relative_position_bias(x)\n",
    "        return x\n",
    "\n",
    "    \n",
    "    @dimtrack\n",
    "    def unpad_patches(x):\n",
    "        x = x[:,:n_h,:n_w,:]\n",
    "        return x\n",
    "    \n",
    "    x = pad_patches(x)\n",
    "    x = cyclic_shift(x)\n",
    "    x = reshape_by_windowsize(x)\n",
    "    x = batchify_windows(x)\n",
    "    x = mha(x)\n",
    "\n",
    "    x = torch.randn(b, n_h, n_w, n_x)\n",
    "\n",
    "    return x"
   ]
  },
  {
   "cell_type": "code",
   "execution_count": 376,
   "metadata": {},
   "outputs": [],
   "source": [
    "@dimtrack\n",
    "def mlp(x, ratio=4):\n",
    "    b, n_h, n_w, n_x = x.shape\n",
    "    fc1 = nn.Linear(n_x, ratio*n_x)\n",
    "    fc2 = nn.Linear(4*n_x, n_x)\n",
    "    nl = nn.GELU()\n",
    "\n",
    "    x = fc1(x)\n",
    "    x = nl(x)\n",
    "    x = fc2(x)\n",
    "    return x"
   ]
  },
  {
   "cell_type": "code",
   "execution_count": 377,
   "metadata": {},
   "outputs": [],
   "source": [
    "def stochastic_depth(x, p=0):\n",
    "    return x"
   ]
  },
  {
   "cell_type": "code",
   "execution_count": 378,
   "metadata": {},
   "outputs": [],
   "source": [
    "@dimtrack\n",
    "def swin_transformer_block(x, shift_size=0):\n",
    "    b, n_h, n_w, n_x = x.shape\n",
    "    norm1 = nn.LayerNorm(n_x)\n",
    "    norm2 = nn.LayerNorm(n_x)\n",
    "\n",
    "    x = norm1(x)\n",
    "    x = x + stochastic_depth(shifted_window_attention(x, shift_size=shift_size))\n",
    "    x = norm2(x)\n",
    "    x = x = stochastic_depth(mlp(x))\n",
    "    return x"
   ]
  },
  {
   "cell_type": "code",
   "execution_count": 379,
   "metadata": {},
   "outputs": [
    {
     "name": "stdout",
     "output_type": "stream",
     "text": [
      "╭───── (1, 3, 224, 224) :: swin_t\n",
      "│  ╭──── (1, 3, 224, 224) :: patch_embedding\n",
      "│  ╰───→ (1, 56, 56, 96)\n",
      "│  ╭──── (1, 56, 56, 96) :: swin_transformer_block\n",
      "│  │  ╭─── (1, 56, 56, 96) :: shifted_window_attention\n",
      "│  │  │  ╭── (1, 56, 56, 96) :: pad_patches\n",
      "│  │  │  ╰─→ (1, 56, 56, 96)\n",
      "│  │  │  ╭── (1, 56, 56, 96) :: cyclic_shift\n",
      "│  │  │  ╰─→ (1, 56, 56, 96)\n",
      "│  │  │  ╭── (1, 56, 56, 96) :: reshape_by_windowsize\n",
      "│  │  │  ╰─→ (1, 8, 7, 8, 7, 96)\n",
      "│  │  │  ╭── (1, 8, 7, 8, 7, 96) :: batchify_windows\n",
      "│  │  │  ╰─→ (64, 49, 96)\n",
      "│  │  │  ╭── (64, 49, 96) :: mha\n",
      "│  │  │  │  ╭─ (64, 49, 96) :: attention_value\n",
      "│  │  │  │  ╰→ (64, 8, 49, 49)\n",
      "│  │  │  │  ╭─ (64, 8, 49, 49) :: attn_add_relative_position_bias\n",
      "│  │  │  │  ╰→ (64, 8, 49, 49)\n",
      "│  │  │  ╰─→ (64, 8, 49, 49)\n",
      "│  │  ╰──→ (1, 56, 56, 96)\n",
      "│  │  ╭─── (1, 56, 56, 96) :: mlp\n",
      "│  │  ╰──→ (1, 56, 56, 96)\n",
      "│  ╰───→ (1, 56, 56, 96)\n",
      "│  ╭──── (1, 56, 56, 96) :: swin_transformer_block\n",
      "│  │  ╭─── (1, 56, 56, 96) :: shifted_window_attention\n",
      "│  │  │  ╭── (1, 56, 56, 96) :: pad_patches\n",
      "│  │  │  ╰─→ (1, 56, 56, 96)\n",
      "│  │  │  ╭── (1, 56, 56, 96) :: cyclic_shift\n",
      "│  │  │  ╰─→ (1, 56, 56, 96)\n",
      "│  │  │  ╭── (1, 56, 56, 96) :: reshape_by_windowsize\n",
      "│  │  │  ╰─→ (1, 8, 7, 8, 7, 96)\n",
      "│  │  │  ╭── (1, 8, 7, 8, 7, 96) :: batchify_windows\n",
      "│  │  │  ╰─→ (64, 49, 96)\n",
      "│  │  │  ╭── (64, 49, 96) :: mha\n",
      "│  │  │  │  ╭─ (64, 49, 96) :: attention_value\n",
      "│  │  │  │  ╰→ (64, 8, 49, 49)\n",
      "│  │  │  │  ╭─ (64, 8, 49, 49) :: attn_add_relative_position_bias\n",
      "│  │  │  │  ╰→ (64, 8, 49, 49)\n",
      "│  │  │  ╰─→ (64, 8, 49, 49)\n",
      "│  │  ╰──→ (1, 56, 56, 96)\n",
      "│  │  ╭─── (1, 56, 56, 96) :: mlp\n",
      "│  │  ╰──→ (1, 56, 56, 96)\n",
      "│  ╰───→ (1, 56, 56, 96)\n",
      "╰────→ (1, 56, 56, 96)\n"
     ]
    }
   ],
   "source": [
    "@dimtrack\n",
    "def swin_t(x):\n",
    "    x = patch_embedding(x)\n",
    "    x = swin_transformer_block(x, shift_size=0)\n",
    "    x = swin_transformer_block(x, shift_size=WINDOW_SIZE//2)\n",
    "    return x\n",
    "\n",
    "swin_t(x)\n",
    "dimtrack.show()"
   ]
  },
  {
   "cell_type": "code",
   "execution_count": 526,
   "metadata": {},
   "outputs": [
    {
     "data": {
      "image/png": "[encoded data removed]",
      "text/plain": [
       "<Figure size 1200x400 with 3 Axes>"
      ]
     },
     "metadata": {},
     "output_type": "display_data"
    }
   ],
   "source": [
    "import matplotlib.pyplot as plt\n",
    "\n",
    "def define_relative_position_index():\n",
    "    coords_h = torch.arange(7)\n",
    "    coords_w = torch.arange(7)\n",
    "    coords = torch.stack(torch.meshgrid(coords_h, coords_w, indexing=\"ij\"))  # 2, Wh, Ww\n",
    "    coords_flatten = torch.flatten(coords, 1)  # 2, Wh*Ww\n",
    "\n",
    "    relative_coords = coords_flatten[:, :, None] - coords_flatten[:, None, :]  # 2, Wh*Ww, Wh*Ww\n",
    "    relative_coords = relative_coords.permute(1, 2, 0).contiguous()  # Wh*Ww, Wh*Ww, 2\n",
    "\n",
    "    relative_coords[:, :, 0] += 7 - 1  # shift to start from 0\n",
    "    relative_coords[:, :, 1] += 7 - 1\n",
    "    relative_coords[:, :, 0] *= 2 * 7 - 1\n",
    "\n",
    "    relative_position_index = relative_coords.sum(-1).flatten()  # Wh*Ww*Wh*Ww\n",
    "    return relative_position_index\n",
    "\n",
    "relative_position_index = define_relative_position_index()\n",
    "\n",
    "i = 43\n",
    "plt.figure(figsize=(12,4))\n",
    "plt.subplot(1,3,1)\n",
    "plt.imshow(relative_position_index.reshape(49,49))\n",
    "plt.subplot(1,3,2)\n",
    "ab = relative_position_index==i\n",
    "plt.imshow(ab.reshape(49,49))\n",
    "plt.subplot(1,3,3)\n",
    "plt.imshow(ab.type(torch.float32).reshape(49,7,7).mean(0))\n",
    "for i in torch.linspace(-0.5,6.5,8):\n",
    "    plt.axvline(i,c='k',lw=1)\n",
    "    plt.axhline(i,c='k',lw=1)\n",
    "plt.show()"
   ]
  },
  {
   "cell_type": "markdown",
   "metadata": {},
   "source": [
    "jot down"
   ]
  },
  {
   "cell_type": "code",
   "execution_count": 381,
   "metadata": {},
   "outputs": [],
   "source": [
    "from torchvision.models import swin_t\n",
    "\n",
    "model = swin_t()"
   ]
  },
  {
   "cell_type": "code",
   "execution_count": 382,
   "metadata": {},
   "outputs": [
    {
     "name": "stdout",
     "output_type": "stream",
     "text": [
      "╭─ (1, 3, 224, 224) :: <class 'torch.nn.modules.container.Sequential'>\n",
      "╰→ (1, 56, 56, 96)\n",
      "╭─ (1, 56, 56, 96) :: <class 'torch.nn.modules.container.Sequential'>\n",
      "╰→ (1, 56, 56, 96)\n",
      "╭─ (1, 56, 56, 96) :: <class 'torchvision.models.swin_transformer.PatchMerging'>\n",
      "╰→ (1, 28, 28, 192)\n",
      "╭─ (1, 28, 28, 192) :: <class 'torch.nn.modules.container.Sequential'>\n",
      "╰→ (1, 28, 28, 192)\n",
      "╭─ (1, 28, 28, 192) :: <class 'torchvision.models.swin_transformer.PatchMerging'>\n",
      "╰→ (1, 14, 14, 384)\n",
      "╭─ (1, 14, 14, 384) :: <class 'torch.nn.modules.container.Sequential'>\n",
      "╰→ (1, 14, 14, 384)\n",
      "╭─ (1, 14, 14, 384) :: <class 'torchvision.models.swin_transformer.PatchMerging'>\n",
      "╰→ (1, 7, 7, 768)\n",
      "╭─ (1, 7, 7, 768) :: <class 'torch.nn.modules.container.Sequential'>\n",
      "╰→ (1, 7, 7, 768)\n"
     ]
    }
   ],
   "source": [
    "dimtrack = DimTrack()\n",
    "x = torch.randn(1,3,224,224)\n",
    "for module in model.features.children():\n",
    "    x = dimtrack(module)(x)\n",
    "dimtrack.show()"
   ]
  },
  {
   "cell_type": "code",
   "execution_count": 383,
   "metadata": {},
   "outputs": [
    {
     "name": "stdout",
     "output_type": "stream",
     "text": [
      "╭─ (1, 3, 224, 224) :: <class 'torch.nn.modules.conv.Conv2d'>\n",
      "╰→ (1, 96, 56, 56)\n",
      "╭─ (1, 96, 56, 56) :: <class 'torchvision.ops.misc.Permute'>\n",
      "╰→ (1, 56, 56, 96)\n",
      "╭─ (1, 56, 56, 96) :: <class 'torch.nn.modules.normalization.LayerNorm'>\n",
      "╰→ (1, 56, 56, 96)\n"
     ]
    }
   ],
   "source": [
    "dimtrack = DimTrack()\n",
    "x = torch.randn(1,3,224,224)\n",
    "for module in model.features[0].children():\n",
    "    x = dimtrack(module)(x)\n",
    "dimtrack.show()"
   ]
  },
  {
   "cell_type": "code",
   "execution_count": 384,
   "metadata": {},
   "outputs": [
    {
     "name": "stdout",
     "output_type": "stream",
     "text": [
      "╭─ (1, 56, 56, 96) :: <class 'torchvision.models.swin_transformer.SwinTransformerBlock'>\n",
      "╰→ (1, 56, 56, 96)\n",
      "╭─ (1, 56, 56, 96) :: <class 'torchvision.models.swin_transformer.SwinTransformerBlock'>\n",
      "╰→ (1, 56, 56, 96)\n"
     ]
    }
   ],
   "source": [
    "dimtrack = DimTrack()\n",
    "x = torch.randn(1,56,56,96)\n",
    "for module in model.features[1].children():\n",
    "    x = dimtrack(module)(x)\n",
    "dimtrack.show()"
   ]
  },
  {
   "cell_type": "code",
   "execution_count": 385,
   "metadata": {},
   "outputs": [
    {
     "name": "stdout",
     "output_type": "stream",
     "text": [
      "╭─ (1, 56, 56, 96) :: <class 'torch.nn.modules.normalization.LayerNorm'>\n",
      "╰→ (1, 56, 56, 96)\n",
      "╭─ (1, 56, 56, 96) :: <class 'torchvision.models.swin_transformer.ShiftedWindowAttention'>\n",
      "╰→ (1, 56, 56, 96)\n",
      "╭─ (1, 56, 56, 96) :: <class 'torchvision.ops.stochastic_depth.StochasticDepth'>\n",
      "╰→ (1, 56, 56, 96)\n",
      "╭─ (1, 56, 56, 96) :: <class 'torch.nn.modules.normalization.LayerNorm'>\n",
      "╰→ (1, 56, 56, 96)\n",
      "╭─ (1, 56, 56, 96) :: <class 'torchvision.ops.misc.MLP'>\n",
      "╰→ (1, 56, 56, 96)\n"
     ]
    }
   ],
   "source": [
    "dimtrack = DimTrack()\n",
    "x = torch.randn(1,56,56,96)\n",
    "for module in model.features[1][0].children():\n",
    "    x = dimtrack(module)(x)\n",
    "dimtrack.show()"
   ]
  }
 ],
 "metadata": {
  "kernelspec": {
   "display_name": "base",
   "language": "python",
   "name": "python3"
  },
  "language_info": {
   "codemirror_mode": {
    "name": "ipython",
    "version": 3
   },
   "file_extension": ".py",
   "mimetype": "text/x-python",
   "name": "python",
   "nbconvert_exporter": "python",
   "pygments_lexer": "ipython3",
   "version": "3.11.0"
  }
 },
 "nbformat": 4,
 "nbformat_minor": 2
}
