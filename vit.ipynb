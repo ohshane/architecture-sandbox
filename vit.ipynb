{
 "cells": [
  {
   "cell_type": "code",
   "execution_count": 13,
   "metadata": {},
   "outputs": [],
   "source": [
    "from utils import *\n",
    "\n",
    "import torch\n",
    "import torch.nn as nn\n",
    "import torch.nn.functional as F"
   ]
  },
  {
   "cell_type": "code",
   "execution_count": 14,
   "metadata": {},
   "outputs": [
    {
     "name": "stdout",
     "output_type": "stream",
     "text": [
      "torch.Size([32, 3, 224, 224])\n"
     ]
    }
   ],
   "source": [
    "x = torch.randn(32,3,224,224) # b c h w\n",
    "show(x)"
   ]
  },
  {
   "cell_type": "code",
   "execution_count": 15,
   "metadata": {},
   "outputs": [
    {
     "name": "stdout",
     "output_type": "stream",
     "text": [
      "torch.Size([32, 3, 224, 224]) <- input\n",
      "torch.Size([32, 768, 14, 14])\n",
      "torch.Size([32, 768, 196])\n",
      "torch.Size([32, 196, 768])\n",
      "torch.Size([32, 197, 768]) <- output\n"
     ]
    }
   ],
   "source": [
    "PATCH_SIZE = 16\n",
    "\n",
    "def patch_embedding(x):\n",
    "    b, c, h, w = x.shape\n",
    "    assert h % PATCH_SIZE == 0\n",
    "    assert w % PATCH_SIZE == 0\n",
    "\n",
    "    n_h = h // PATCH_SIZE\n",
    "    n_w = w // PATCH_SIZE\n",
    "\n",
    "    embed_dim = c * PATCH_SIZE**2\n",
    "\n",
    "    conv_proj = nn.Conv2d(\n",
    "        in_channels=c,\n",
    "        out_channels=embed_dim,\n",
    "        kernel_size=PATCH_SIZE,\n",
    "        stride=PATCH_SIZE,\n",
    "    )\n",
    "\n",
    "    show(x, \"input\")\n",
    "\n",
    "    x = conv_proj(x)     # b n_x n_h n_w\n",
    "    show(x)\n",
    "\n",
    "    x = x.flatten(2)     # b n_x n_t\n",
    "    show(x)\n",
    "\n",
    "    x = x.permute(0,2,1) # b n_t n_x\n",
    "    show(x)\n",
    "\n",
    "    cls_token = nn.Parameter(torch.zeros(1,1,embed_dim))\n",
    "    cls_token = cls_token.expand(b,-1,-1)\n",
    "\n",
    "    x = torch.cat([cls_token, x], dim=1) # b (1+n_t) n_x\n",
    "    show(x, \"output\")\n",
    "\n",
    "    return x\n",
    "\n",
    "x = patch_embedding(x)"
   ]
  },
  {
   "cell_type": "code",
   "execution_count": 16,
   "metadata": {},
   "outputs": [
    {
     "name": "stdout",
     "output_type": "stream",
     "text": [
      "torch.Size([32, 197, 768]) <- input\n",
      "torch.Size([32, 197, 768])\n",
      "torch.Size([32, 197, 8, 96])\n",
      "torch.Size([32, 8, 197, 96])\n",
      "torch.Size([32, 8, 197, 96])\n",
      "torch.Size([32, 197, 8, 96])\n",
      "torch.Size([32, 197, 768]) <- output\n",
      "torch.Size([32, 197, 768]) <- input\n",
      "torch.Size([32, 197, 768])\n",
      "torch.Size([32, 197, 8, 96])\n",
      "torch.Size([32, 8, 197, 96])\n",
      "torch.Size([32, 8, 197, 96])\n",
      "torch.Size([32, 197, 8, 96])\n",
      "torch.Size([32, 197, 768]) <- output\n",
      "torch.Size([32, 197, 768]) <- input\n",
      "torch.Size([32, 197, 768])\n",
      "torch.Size([32, 197, 8, 96])\n",
      "torch.Size([32, 8, 197, 96])\n",
      "torch.Size([32, 8, 197, 96])\n",
      "torch.Size([32, 197, 8, 96])\n",
      "torch.Size([32, 197, 768]) <- output\n",
      "torch.Size([32, 197, 768])\n",
      "torch.Size([32, 768])\n"
     ]
    }
   ],
   "source": [
    "def multi_head_attention(x, num_heads):\n",
    "    b, n_t, n_x = x.shape\n",
    "    assert n_x % num_heads == 0\n",
    "\n",
    "    q_proj = nn.Linear(n_x, n_x)\n",
    "    k_proj = nn.Linear(n_x, n_x)\n",
    "    v_proj = nn.Linear(n_x, n_x)\n",
    "\n",
    "    show(x, \"input\")\n",
    "\n",
    "    Q = q_proj(x)\n",
    "    K = k_proj(x)\n",
    "    V = v_proj(x)\n",
    "    show(V)\n",
    "\n",
    "    Q = Q.view(b, n_t, num_heads, -1) # b n_t h n_x'\n",
    "    K = K.view(b, n_t, num_heads, -1) # b n_t h n_x'\n",
    "    V = V.view(b, n_t, num_heads, -1) # b n_t h n_x'\n",
    "    show(V)\n",
    "\n",
    "    Q = Q.transpose(1,2) # b h n_t n_x'\n",
    "    K = K.transpose(1,2) # b h n_t n_x'\n",
    "    V = V.transpose(1,2) # b h n_t n_x'\n",
    "    show(V)\n",
    "\n",
    "    A = (Q @ K.transpose(-2,-1)) / (n_x//num_heads)**0.5 # (b h n_t n_x')@(b h n_x' n_t) = (b h n_t n_t)\n",
    "    A = A.softmax(-1) # b h n_t n_t\n",
    "\n",
    "    # ---softmax---   --v--   --v--\n",
    "    # ---softmax---   --v--   --v--\n",
    "    # ---softmax--- @ --v-- = --v--\n",
    "    # ---softmax---   --v--   --v--\n",
    "    # ---softmax---   --v--   --v--\n",
    "\n",
    "    # -               --v--   --v--\n",
    "    # ----            --v--   --v--\n",
    "    # ---so--       @ --v-- = --v--\n",
    "    # ---soft---      --v--   --v--\n",
    "    # ---softmax---   --v--   --v--\n",
    "    \n",
    "    V = A @ V # (b h n_t n_t)@(b h n_t n_x') = b h n_t n_x'\n",
    "    show(V)\n",
    "\n",
    "    V = V.transpose(1,2) # b n_t h n_x'\n",
    "    show(V)\n",
    "\n",
    "    V = V.contiguous().view(b, n_t, -1)\n",
    "    show(V, \"output\")\n",
    "\n",
    "    return V\n",
    "\n",
    "\n",
    "def attention_block(x):\n",
    "    b, n_t, n_x = x.shape\n",
    "    norm = nn.LayerNorm(n_x)\n",
    "\n",
    "    x = norm(x)\n",
    "    x = multi_head_attention(x, num_heads=8)\n",
    "    return x\n",
    "\n",
    "\n",
    "def mlp_block(x):\n",
    "    b, n_t, n_x = x.shape\n",
    "    norm = nn.LayerNorm(n_x)\n",
    "    fc1 = nn.Linear(n_x, n_x*4)\n",
    "    fc2 = nn.Linear(n_x*4, n_x)\n",
    "    gelu = nn.GELU()\n",
    "\n",
    "    x = norm(x)\n",
    "    x = fc1(x)\n",
    "    x = gelu(x)\n",
    "    x = fc2(x)\n",
    "    return x\n",
    "\n",
    "\n",
    "def encoder_block(x):\n",
    "    x = attention_block(x) + x\n",
    "    x = mlp_block(x) + x\n",
    "    return x\n",
    "\n",
    "\n",
    "def encoder(x):\n",
    "    for _ in range(3):\n",
    "        x = encoder_block(x)\n",
    "    return x\n",
    "\n",
    "x = encoder(x)\n",
    "show(x)\n",
    "\n",
    "x = x[:,0]\n",
    "show(x)"
   ]
  },
  {
   "cell_type": "code",
   "execution_count": 17,
   "metadata": {},
   "outputs": [
    {
     "name": "stdout",
     "output_type": "stream",
     "text": [
      "torch.Size([32, 2])\n"
     ]
    }
   ],
   "source": [
    "def heads(x):\n",
    "    b, n_x = x.shape\n",
    "    fc1 = nn.Linear(n_x, 100)\n",
    "    fc2 = nn.Linear(100, 2)\n",
    "    tanh = nn.Tanh()\n",
    "\n",
    "    x = fc1(x)\n",
    "    x = tanh(x)\n",
    "    x = fc2(x)\n",
    "    return x\n",
    "\n",
    "x = heads(x)\n",
    "show(x)"
   ]
  }
 ],
 "metadata": {
  "kernelspec": {
   "display_name": "base",
   "language": "python",
   "name": "python3"
  },
  "language_info": {
   "codemirror_mode": {
    "name": "ipython",
    "version": 3
   },
   "file_extension": ".py",
   "mimetype": "text/x-python",
   "name": "python",
   "nbconvert_exporter": "python",
   "pygments_lexer": "ipython3",
   "version": "3.11.0"
  }
 },
 "nbformat": 4,
 "nbformat_minor": 2
}
