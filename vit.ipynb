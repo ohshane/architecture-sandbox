{
 "cells": [
  {
   "cell_type": "code",
   "execution_count": 8,
   "metadata": {},
   "outputs": [],
   "source": [
    "from utils import *\n",
    "\n",
    "import torch\n",
    "import torch.nn as nn\n",
    "import torch.nn.functional as F"
   ]
  },
  {
   "cell_type": "code",
   "execution_count": 9,
   "metadata": {},
   "outputs": [
    {
     "name": "stdout",
     "output_type": "stream",
     "text": [
      "x.shape = torch.Size([32, 3, 224, 224])\n"
     ]
    }
   ],
   "source": [
    "x = torch.randn(32,3,224,224) # b c h w\n",
    "show(x)"
   ]
  },
  {
   "cell_type": "code",
   "execution_count": null,
   "metadata": {},
   "outputs": [
    {
     "name": "stdout",
     "output_type": "stream",
     "text": [
      "x.shape = torch.Size([32, 3, 224, 224]) <- input\n"
     ]
    },
    {
     "name": "stdout",
     "output_type": "stream",
     "text": [
      "x.shape = torch.Size([32, 768, 14, 14])\n",
      "x.shape = torch.Size([32, 768, 196])\n",
      "x.shape = torch.Size([32, 196, 768])\n",
      "x.shape = torch.Size([32, 197, 768]) <- output\n"
     ]
    }
   ],
   "source": [
    "PATCH_SIZE = 16\n",
    "\n",
    "def patch_embedding(x):\n",
    "    b, c, h, w = x.shape\n",
    "    assert h % PATCH_SIZE == 0\n",
    "    assert w % PATCH_SIZE == 0\n",
    "\n",
    "    n_h = h // PATCH_SIZE\n",
    "    n_w = w // PATCH_SIZE\n",
    "\n",
    "    embed_dim = c * PATCH_SIZE**2\n",
    "\n",
    "    conv_proj = nn.Conv2d(\n",
    "        in_channels=c,\n",
    "        out_channels=embed_dim,\n",
    "        kernel_size=PATCH_SIZE,\n",
    "        stride=PATCH_SIZE,\n",
    "    )\n",
    "\n",
    "    show(x, \"input\")\n",
    "\n",
    "    x = conv_proj(x)     # b n_x n_h n_w\n",
    "    show(x)\n",
    "\n",
    "    x = x.flatten(2)     # b n_x n_t\n",
    "    show(x)\n",
    "\n",
    "    x = x.permute(0,2,1) # b n_t n_x\n",
    "    show(x)\n",
    "\n",
    "    cls_token = nn.Parameter(torch.zeros(1,1,embed_dim))\n",
    "    cls_token = cls_token.expand(b,-1,-1)\n",
    "\n",
    "    x = torch.cat([cls_token, x], dim=1) # b (1+n_t) n_x\n",
    "    show(x, \"output\")\n",
    "\n",
    "    return x\n",
    "\n",
    "x = patch_embedding(x)"
   ]
  },
  {
   "cell_type": "code",
   "execution_count": null,
   "metadata": {},
   "outputs": [],
   "source": [
    "def multi_head_attention(x, kdim, vdim, num_heads):\n",
    "    b, n_t, n_x = x.shape\n",
    "    assert n_x % num_heads == 0\n",
    "\n",
    "    q_proj = nn.Linear(n_x, kdim)\n",
    "    k_proj = nn.Linear(n_x, kdim)\n",
    "    v_proj = nn.Linear(n_x, vdim)\n",
    "\n",
    "def encoder_block(x):\n",
    "    return x"
   ]
  },
  {
   "cell_type": "code",
   "execution_count": null,
   "metadata": {},
   "outputs": [],
   "source": [
    "tiheadAttention()"
   ]
  }
 ],
 "metadata": {
  "kernelspec": {
   "display_name": "base",
   "language": "python",
   "name": "python3"
  },
  "language_info": {
   "codemirror_mode": {
    "name": "ipython",
    "version": 3
   },
   "file_extension": ".py",
   "mimetype": "text/x-python",
   "name": "python",
   "nbconvert_exporter": "python",
   "pygments_lexer": "ipython3",
   "version": "3.11.5"
  }
 },
 "nbformat": 4,
 "nbformat_minor": 2
}
