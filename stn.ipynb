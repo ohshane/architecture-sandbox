{
 "cells": [
  {
   "cell_type": "code",
   "execution_count": 17,
   "metadata": {},
   "outputs": [],
   "source": [
    "import torch\n",
    "import torch.nn as nn\n",
    "import torch.nn.functional as F\n",
    "from dimc import DimTrack"
   ]
  },
  {
   "cell_type": "code",
   "execution_count": 18,
   "metadata": {},
   "outputs": [
    {
     "data": {
      "text/plain": [
       "tensor([[ 0.0341, -0.1301, -0.5065,  0.1452,  0.0520, -0.4160,  0.0379,  0.2387,\n",
       "         -0.0273, -0.2478]], grad_fn=<AddmmBackward0>)"
      ]
     },
     "execution_count": 18,
     "metadata": {},
     "output_type": "execute_result"
    }
   ],
   "source": [
    "\n",
    "class STN(nn.Module):\n",
    "    pass\n",
    "\n",
    "class Model(nn.Module):\n",
    "    def __init__(self):\n",
    "        super().__init__()\n",
    "        self.conv1     = nn.Conv2d( 1,10,5)\n",
    "        self.conv2     = nn.Conv2d(10,20,5)\n",
    "        self.dropout2d = nn.Dropout2d(0.5)\n",
    "        self.dropout   = nn.Dropout(0.5)\n",
    "        self.maxpool   = nn.MaxPool2d(2,2)\n",
    "        self.fc1       = nn.Linear(320,50)\n",
    "        self.fc2       = nn.Linear(50,10)\n",
    "        self.nl        = nn.ReLU()\n",
    "        self.flatten   = nn.Flatten(1)\n",
    "    \n",
    "    def feature(self, x):\n",
    "        x = self.conv1(x)\n",
    "        x = self.maxpool(x)\n",
    "        x = self.nl(x)\n",
    "\n",
    "        x = self.conv2(x)\n",
    "        x = self.dropout2d(x)\n",
    "        x = self.maxpool(x)\n",
    "        x = self.nl(x)\n",
    "        x = self.flatten(x)\n",
    "        return x\n",
    "    \n",
    "    def head(self, x):\n",
    "        x = self.fc1(x)\n",
    "        x = self.nl(x)\n",
    "        x = self.dropout(x)\n",
    "        x = self.fc2(x)\n",
    "        return x\n",
    "    \n",
    "    def forward(self, x):\n",
    "        x = self.feature(x)\n",
    "        x = self.head(x)\n",
    "        return x\n",
    "\n",
    "x = torch.randn(1,1,28,28)\n",
    "model = Model()\n",
    "model(x)"
   ]
  }
 ],
 "metadata": {
  "kernelspec": {
   "display_name": "base",
   "language": "python",
   "name": "python3"
  },
  "language_info": {
   "codemirror_mode": {
    "name": "ipython",
    "version": 3
   },
   "file_extension": ".py",
   "mimetype": "text/x-python",
   "name": "python",
   "nbconvert_exporter": "python",
   "pygments_lexer": "ipython3",
   "version": "3.11.5"
  }
 },
 "nbformat": 4,
 "nbformat_minor": 2
}
